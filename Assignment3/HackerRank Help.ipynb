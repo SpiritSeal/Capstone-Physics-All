{
 "cells": [
  {
   "cell_type": "markdown",
   "id": "7c06a9a7",
   "metadata": {},
   "source": [
    "# HackerRank Help"
   ]
  },
  {
   "cell_type": "markdown",
   "id": "7217c688",
   "metadata": {},
   "source": [
    "Hello everyone! Due to feedback about the frustrating natural of HackerRank, I've added a tutorial below for 10 of the Python modules and 10 of the NumPy Modules.\n",
    "\n",
    "Please reference these as you work through the modules. If you have any questions, please feel free to e-mail me at any time. "
   ]
  },
  {
   "cell_type": "markdown",
   "id": "772a04e3",
   "metadata": {},
   "source": [
    "## Intro to HackerRank"
   ]
  },
  {
   "cell_type": "markdown",
   "id": "3d5ad3e9",
   "metadata": {},
   "source": [
    "HackerRank can be confusing at first, but will become easier the more you use it. We'll only be using it for these introductory assignments, but it's a useful tool to fine tune your programming experience in the future. "
   ]
  },
  {
   "cell_type": "markdown",
   "id": "9c18e16f",
   "metadata": {},
   "source": [
    "HackerRank gives you inputs and compares it to the values your program outputs. It gives you a template to start with that looks similar to this:\n",
    "\n",
    "`\n",
    "if __name__ == '__main__':\n",
    "    a = int(input())\n",
    "`"
   ]
  },
  {
   "cell_type": "markdown",
   "id": "c3f1ce70",
   "metadata": {},
   "source": [
    "The `if __name__ == '__main__'` line basically checks says 'hey, this is my main file, so run this code'. You don't need these in our notebook, but you do need them in a stand-alone python file (.py). The `input( )` function prompts the user for input. It's also how the HackerRank website feeds your code test input. Run the cell below and see what happens:"
   ]
  },
  {
   "cell_type": "code",
   "execution_count": 1,
   "id": "93b8a572",
   "metadata": {},
   "outputs": [
    {
     "name": "stdout",
     "output_type": "stream",
     "text": [
      "Give me input:4\n"
     ]
    },
    {
     "data": {
      "text/plain": [
       "'4'"
      ]
     },
     "execution_count": 1,
     "metadata": {},
     "output_type": "execute_result"
    }
   ],
   "source": [
    "input(\"Give me input:\")"
   ]
  },
  {
   "cell_type": "markdown",
   "id": "11da54f5",
   "metadata": {},
   "source": [
    "The `int( )` function that the `input()` function is inside of make the users input an integer. "
   ]
  },
  {
   "cell_type": "code",
   "execution_count": 2,
   "id": "18ca5428",
   "metadata": {},
   "outputs": [
    {
     "name": "stdout",
     "output_type": "stream",
     "text": [
      "Give me a number: 6\n"
     ]
    },
    {
     "data": {
      "text/plain": [
       "6"
      ]
     },
     "execution_count": 2,
     "metadata": {},
     "output_type": "execute_result"
    }
   ],
   "source": [
    "int(input(\"Give me a number: \"))"
   ]
  },
  {
   "cell_type": "markdown",
   "id": "8c15447b",
   "metadata": {},
   "source": [
    "If you want to add additional code the program will run, you can add it under this `a = int(input())`. This code will automatically be run when you hit the `Run Code` button on HackerRank. "
   ]
  },
  {
   "cell_type": "markdown",
   "id": "e60db9a2",
   "metadata": {},
   "source": [
    "## Python"
   ]
  },
  {
   "cell_type": "markdown",
   "id": "194800ec",
   "metadata": {},
   "source": [
    "### 1: Say \"Hello, World!\" With Python\n",
    "https://www.hackerrank.com/challenges/py-hello-world/problem"
   ]
  },
  {
   "cell_type": "markdown",
   "id": "41f38819",
   "metadata": {},
   "source": [
    "Your first program in almost every language will be to print \"Hello, World!\" to the screen. To do this, you just use the python `print(\" \")` function."
   ]
  },
  {
   "cell_type": "markdown",
   "id": "6a2bde4a",
   "metadata": {},
   "source": [
    "Run the cell below. What happens? "
   ]
  },
  {
   "cell_type": "code",
   "execution_count": 3,
   "id": "ba97792f",
   "metadata": {},
   "outputs": [
    {
     "name": "stdout",
     "output_type": "stream",
     "text": [
      "Welcome to Physics!\n"
     ]
    }
   ],
   "source": [
    "print(\"Welcome to Physics!\")"
   ]
  },
  {
   "cell_type": "markdown",
   "id": "efe63e46",
   "metadata": {},
   "source": [
    "### 2: Python If-Else"
   ]
  },
  {
   "cell_type": "markdown",
   "id": "3dca8bc1",
   "metadata": {},
   "source": [
    "https://www.hackerrank.com/challenges/py-if-else/problem"
   ]
  },
  {
   "cell_type": "markdown",
   "id": "4e60106d",
   "metadata": {},
   "source": [
    "One of the basic ways our code can makes decisions is to use what is knows as a \"if-then\" loop.\n",
    "\n",
    "Here's an example:\n",
    "\n",
    "What jacket we wear often depends on the weather outside. \\\n",
    "Is it cold? You'll wear a sweater \\\n",
    "Is it rainy? You'll wear a rain coat \\\n",
    "Is it snowy? You'll wear a puff \\\n",
    "Otherwise, you won't need a jacket.\n",
    "\n",
    "If you know it's sunny, you don't need to check whether its cloudy or rainy, you can just move on with your life. In python, this is how we could make this work:"
   ]
  },
  {
   "cell_type": "code",
   "execution_count": 4,
   "id": "0e5e3f40",
   "metadata": {},
   "outputs": [
    {
     "name": "stdout",
     "output_type": "stream",
     "text": [
      "coat\n"
     ]
    }
   ],
   "source": [
    "weather = \"cloudy\"\n",
    "\n",
    "if weather == \"cloudy\":\n",
    "    jacket = \"coat\"\n",
    "\n",
    "elif weather == \"rainy\":\n",
    "    jacket = \"rain jacket\"\n",
    "\n",
    "elif weather == \"snowy\":\n",
    "    jacket = \"puff\"\n",
    "    \n",
    "else:\n",
    "    jacket = \"none\"\n",
    "    \n",
    "print(jacket)"
   ]
  },
  {
   "cell_type": "markdown",
   "id": "2a40d0e4",
   "metadata": {},
   "source": [
    "Try changing `weather = \"cloudy\"` to `weather = \"sunny\"` and `weather = \"snowy\"`. What happened?"
   ]
  },
  {
   "cell_type": "markdown",
   "id": "dda3d373",
   "metadata": {},
   "source": [
    "There's a few things to notice in this code. \n",
    "\n",
    "First, `if` statements can be (but aren't necessarily) accompanied by an `elif` statements (which stands for else-if) and an `else` statement. The `elif` statements are additional statements that are only checked if the preceeding `if` or `elif` is not true. \n",
    "\n",
    "Second, every `if` statement will have exactly one `if`, as many `elif` as you'd like, and up to one `else`. \n",
    "\n",
    "Third, there's a different between `weather = \"cloudy\"` and `weather == \"cloudy\"`. The first, using a single equal sign (`=`) sets the value of `weather` to `\"cloudy\"`. Using a double equal sign `(==)` compares the value of `weather` to `cloudy`. If it's the same, it results in `True`. If it is false, it results in `False`. "
   ]
  },
  {
   "cell_type": "markdown",
   "id": "ac6d9ab3",
   "metadata": {},
   "source": [
    "### 3: Arithmetic Operators\n",
    "https://www.hackerrank.com/challenges/python-arithmetic-operators/problem"
   ]
  },
  {
   "cell_type": "raw",
   "id": "8571e8cf",
   "metadata": {},
   "source": [
    "Arthimetic Operators is how we can add, subtract and multiply. Try these out below:"
   ]
  },
  {
   "cell_type": "code",
   "execution_count": 5,
   "id": "36c40577",
   "metadata": {},
   "outputs": [],
   "source": [
    "a = 4\n",
    "b = 6"
   ]
  },
  {
   "cell_type": "code",
   "execution_count": 6,
   "id": "b6e1a34f",
   "metadata": {},
   "outputs": [
    {
     "data": {
      "text/plain": [
       "24"
      ]
     },
     "execution_count": 6,
     "metadata": {},
     "output_type": "execute_result"
    }
   ],
   "source": [
    "a + b\n",
    "a - b\n",
    "a * b"
   ]
  },
  {
   "cell_type": "markdown",
   "id": "0a95d640",
   "metadata": {},
   "source": [
    "Hmm. We only see one answer. Why might that be? We aren't doing anything with the results. So the program is just showing us the last output.\n",
    "\n",
    "So we're calculating them, but we also want to display the answers for each. We'll want to print it out so the user can see it. We do this with the `print(...)` function:"
   ]
  },
  {
   "cell_type": "code",
   "execution_count": 7,
   "id": "fa8277ca",
   "metadata": {},
   "outputs": [
    {
     "name": "stdout",
     "output_type": "stream",
     "text": [
      "10\n",
      "-2\n",
      "24\n"
     ]
    }
   ],
   "source": [
    "print(a + b)\n",
    "print(a - b)\n",
    "print(a * b)"
   ]
  },
  {
   "cell_type": "markdown",
   "id": "fb8aaf20",
   "metadata": {},
   "source": [
    "### 4: Python Division\n",
    "https://www.hackerrank.com/challenges/python-division/problem"
   ]
  },
  {
   "cell_type": "markdown",
   "id": "09fcf3ca",
   "metadata": {},
   "source": [
    "Python has two types of division: regular, and base division. Regular division will retain all of your decial points, whereas base division asks things like \"how many times does 3 go into 5\" and ignores any remainders. "
   ]
  },
  {
   "cell_type": "code",
   "execution_count": 8,
   "id": "942ae74e",
   "metadata": {},
   "outputs": [
    {
     "data": {
      "text/plain": [
       "1.6666666666666667"
      ]
     },
     "execution_count": 8,
     "metadata": {},
     "output_type": "execute_result"
    }
   ],
   "source": [
    "5 / 3"
   ]
  },
  {
   "cell_type": "code",
   "execution_count": 9,
   "id": "d336c162",
   "metadata": {},
   "outputs": [
    {
     "data": {
      "text/plain": [
       "1"
      ]
     },
     "execution_count": 9,
     "metadata": {},
     "output_type": "execute_result"
    }
   ],
   "source": [
    "5 // 3"
   ]
  },
  {
   "cell_type": "markdown",
   "id": "decc22fa",
   "metadata": {},
   "source": [
    "### 5: Loops\n",
    "https://www.hackerrank.com/challenges/python-loops/problem"
   ]
  },
  {
   "cell_type": "markdown",
   "id": "6ee02cee",
   "metadata": {},
   "source": [
    "If we want to do something more than one time, loops are ways we can save time by 'looping' over a set of instructions."
   ]
  },
  {
   "cell_type": "markdown",
   "id": "4a6f148b",
   "metadata": {},
   "source": [
    "For example, let's say I want to print out every number between 1 and 10. Instead of writing a lot of `print(...)` statements, I can loop over a single `print(...)` statement:"
   ]
  },
  {
   "cell_type": "code",
   "execution_count": 10,
   "id": "bdfd6632",
   "metadata": {},
   "outputs": [
    {
     "name": "stdout",
     "output_type": "stream",
     "text": [
      "0\n",
      "1\n",
      "2\n",
      "3\n",
      "4\n",
      "5\n",
      "6\n",
      "7\n",
      "8\n",
      "9\n"
     ]
    }
   ],
   "source": [
    "for i in range(10):\n",
    "    print(i)"
   ]
  },
  {
   "cell_type": "markdown",
   "id": "0ff22437",
   "metadata": {},
   "source": [
    "The `i` is a variable that is incremented by 1 everytime the loop starts again. Notice I also use the `range(..)` function. This creates a list of integers from \\[0,10). Everytime the loop resets, what's actually happening is `i` is being set to the next item in the `range(...)` list, which then acts like it's being incremented by 1. Here's an example that uses a more obvious list:"
   ]
  },
  {
   "cell_type": "code",
   "execution_count": 11,
   "id": "2f7bd9da",
   "metadata": {},
   "outputs": [
    {
     "name": "stdout",
     "output_type": "stream",
     "text": [
      "cat\n",
      "dog\n",
      "horse\n"
     ]
    }
   ],
   "source": [
    "for i in [\"cat\", \"dog\", \"horse\"]:\n",
    "    print(i)"
   ]
  },
  {
   "cell_type": "markdown",
   "id": "5e6c7a59",
   "metadata": {},
   "source": [
    "This assignment also requires you to square a number. You can do this one of two ways in python:"
   ]
  },
  {
   "cell_type": "code",
   "execution_count": 12,
   "id": "a7cb4263",
   "metadata": {},
   "outputs": [
    {
     "data": {
      "text/plain": [
       "49"
      ]
     },
     "execution_count": 12,
     "metadata": {},
     "output_type": "execute_result"
    }
   ],
   "source": [
    "7 * 7"
   ]
  },
  {
   "cell_type": "code",
   "execution_count": 13,
   "id": "79df69ff",
   "metadata": {},
   "outputs": [
    {
     "data": {
      "text/plain": [
       "49"
      ]
     },
     "execution_count": 13,
     "metadata": {},
     "output_type": "execute_result"
    }
   ],
   "source": [
    "7 ** 2"
   ]
  },
  {
   "cell_type": "markdown",
   "id": "4df8d818",
   "metadata": {},
   "source": [
    "### 6: Write a Function"
   ]
  },
  {
   "cell_type": "markdown",
   "id": "7de964db",
   "metadata": {},
   "source": [
    "https://www.hackerrank.com/challenges/write-a-function/problem"
   ]
  },
  {
   "cell_type": "markdown",
   "id": "b89d1d8a",
   "metadata": {},
   "source": [
    "I'm going to let you figure out the logic on this one, but I'll give you a brief outline of Python functions. Functions (much like a math function) are ways we can define a set of instructions and run it with a variety of inputs. For example, this is a function that finds the sum of two numbers `a` and `b`:"
   ]
  },
  {
   "cell_type": "code",
   "execution_count": 14,
   "id": "a5cd50ec",
   "metadata": {},
   "outputs": [],
   "source": [
    "def add_numbers(a, b):\n",
    "    return a + b"
   ]
  },
  {
   "cell_type": "code",
   "execution_count": 15,
   "id": "0d9ffd7c",
   "metadata": {},
   "outputs": [
    {
     "data": {
      "text/plain": [
       "7"
      ]
     },
     "execution_count": 15,
     "metadata": {},
     "output_type": "execute_result"
    }
   ],
   "source": [
    "add_numbers(3, 4)"
   ]
  },
  {
   "cell_type": "markdown",
   "id": "6bd87901",
   "metadata": {},
   "source": [
    "Every function has a function name. In this case, it's called `add_numbers` followed by a list of the inputs it takes. You can call these whatever you want. \n",
    "\n",
    "A function can have up to one `return` statement. This is what the function gives back to you to use. This different than a print statement. A print statment just shows you the value where as the return statement gives you the value. "
   ]
  },
  {
   "cell_type": "markdown",
   "id": "8de571ba",
   "metadata": {},
   "source": [
    "For example, we can call the `add_numbers(...)` function and assign it to a variable, `c`."
   ]
  },
  {
   "cell_type": "code",
   "execution_count": 16,
   "id": "0a29eb74",
   "metadata": {},
   "outputs": [],
   "source": [
    "c = add_numbers(2,3)"
   ]
  },
  {
   "cell_type": "markdown",
   "id": "4aa34145",
   "metadata": {},
   "source": [
    "But let's say instead, we create the following function and try to assign it to a different variable `d`. "
   ]
  },
  {
   "cell_type": "code",
   "execution_count": 17,
   "id": "7d828b3e",
   "metadata": {},
   "outputs": [],
   "source": [
    "def print_add_numbers(a,b):\n",
    "    print(a + b)"
   ]
  },
  {
   "cell_type": "code",
   "execution_count": 18,
   "id": "362aa2e9",
   "metadata": {},
   "outputs": [
    {
     "name": "stdout",
     "output_type": "stream",
     "text": [
      "7\n"
     ]
    }
   ],
   "source": [
    "d = print_add_numbers(3, 4)"
   ]
  },
  {
   "cell_type": "markdown",
   "id": "0be14fea",
   "metadata": {},
   "source": [
    "Now let's try to print the values of `c` and `d`. "
   ]
  },
  {
   "cell_type": "code",
   "execution_count": 19,
   "id": "3c4d4066",
   "metadata": {},
   "outputs": [
    {
     "name": "stdout",
     "output_type": "stream",
     "text": [
      "5\n"
     ]
    }
   ],
   "source": [
    "print(c)"
   ]
  },
  {
   "cell_type": "code",
   "execution_count": 20,
   "id": "f0b50649",
   "metadata": {},
   "outputs": [
    {
     "name": "stdout",
     "output_type": "stream",
     "text": [
      "None\n"
     ]
    }
   ],
   "source": [
    "print(d)"
   ]
  },
  {
   "cell_type": "markdown",
   "id": "872d6faa",
   "metadata": {},
   "source": [
    "The value of `c` is a number because of the return statement. The value of `d` is None because the print statement shows the number, but doesn't give you the number to use. "
   ]
  },
  {
   "cell_type": "markdown",
   "id": "01105add",
   "metadata": {},
   "source": [
    "### 7: Print Function"
   ]
  },
  {
   "cell_type": "markdown",
   "id": "4b085fb4",
   "metadata": {},
   "source": [
    "If you made it this far, you already have the tools to solve this problem."
   ]
  },
  {
   "cell_type": "markdown",
   "id": "0ddf71a5",
   "metadata": {},
   "source": [
    "### 8: String Split and Join\n",
    "https://www.hackerrank.com/challenges/python-string-split-and-join/problem"
   ]
  },
  {
   "cell_type": "markdown",
   "id": "6fb4c19c",
   "metadata": {},
   "source": [
    "In computer science, an individual letter, number, or symbol is often referred to as a character. A collection of characters (like a word, or sentence) is known as a string. A string in python can be assigned to a variable:"
   ]
  },
  {
   "cell_type": "code",
   "execution_count": 21,
   "id": "d4d4e79d",
   "metadata": {},
   "outputs": [],
   "source": [
    "a = \"hello world\""
   ]
  },
  {
   "cell_type": "markdown",
   "id": "d575ed9c",
   "metadata": {},
   "source": [
    "A string and a list are very similiar. One similiarity, is that we can see what character is in a certain location by using indexing. Python indexes from 0, meaning the 1st character in a string or item in a list is the \"0th\" element. "
   ]
  },
  {
   "cell_type": "code",
   "execution_count": 22,
   "id": "eff056b4",
   "metadata": {},
   "outputs": [
    {
     "data": {
      "text/plain": [
       "'h'"
      ]
     },
     "execution_count": 22,
     "metadata": {},
     "output_type": "execute_result"
    }
   ],
   "source": [
    "a[0]"
   ]
  },
  {
   "cell_type": "code",
   "execution_count": 23,
   "id": "762cff81",
   "metadata": {},
   "outputs": [
    {
     "data": {
      "text/plain": [
       "'e'"
      ]
     },
     "execution_count": 23,
     "metadata": {},
     "output_type": "execute_result"
    }
   ],
   "source": [
    "a[1]"
   ]
  },
  {
   "cell_type": "code",
   "execution_count": 24,
   "id": "9e82a494",
   "metadata": {},
   "outputs": [
    {
     "data": {
      "text/plain": [
       "'l'"
      ]
     },
     "execution_count": 24,
     "metadata": {},
     "output_type": "execute_result"
    }
   ],
   "source": [
    "a[2]"
   ]
  },
  {
   "cell_type": "code",
   "execution_count": 25,
   "id": "cc230e4a",
   "metadata": {},
   "outputs": [
    {
     "data": {
      "text/plain": [
       "'l'"
      ]
     },
     "execution_count": 25,
     "metadata": {},
     "output_type": "execute_result"
    }
   ],
   "source": [
    "a[3]"
   ]
  },
  {
   "cell_type": "code",
   "execution_count": 26,
   "id": "905a3747",
   "metadata": {},
   "outputs": [
    {
     "data": {
      "text/plain": [
       "'o'"
      ]
     },
     "execution_count": 26,
     "metadata": {},
     "output_type": "execute_result"
    }
   ],
   "source": [
    "a[4]"
   ]
  },
  {
   "cell_type": "markdown",
   "id": "ec1b7028",
   "metadata": {},
   "source": [
    "One noteable difference between a string and a list is that a string is _immutable_. Which means with a string, we cannot change the character in a certain location using indexing like we can with lists. "
   ]
  },
  {
   "cell_type": "code",
   "execution_count": 27,
   "id": "f1416278",
   "metadata": {},
   "outputs": [
    {
     "ename": "TypeError",
     "evalue": "'str' object does not support item assignment",
     "output_type": "error",
     "traceback": [
      "\u001b[1;31m---------------------------------------------------------------------------\u001b[0m",
      "\u001b[1;31mTypeError\u001b[0m                                 Traceback (most recent call last)",
      "\u001b[1;32m<ipython-input-27-3232cc1eacc3>\u001b[0m in \u001b[0;36m<module>\u001b[1;34m\u001b[0m\n\u001b[1;32m----> 1\u001b[1;33m \u001b[0ma\u001b[0m\u001b[1;33m[\u001b[0m\u001b[1;36m2\u001b[0m\u001b[1;33m]\u001b[0m \u001b[1;33m=\u001b[0m \u001b[1;34m'h'\u001b[0m\u001b[1;33m\u001b[0m\u001b[1;33m\u001b[0m\u001b[0m\n\u001b[0m",
      "\u001b[1;31mTypeError\u001b[0m: 'str' object does not support item assignment"
     ]
    }
   ],
   "source": [
    "a[2] = 'h'"
   ]
  },
  {
   "cell_type": "markdown",
   "id": "49335618",
   "metadata": {},
   "source": [
    "If you try to run the cell above, it will tell you \"str object does not support item assignment\".\n",
    "\n",
    "Strings have some built in functions that allow us to manipulate data more easily. For this assignments, you'll be using `split(...)` and `join(...)`. \n",
    "\n",
    "Split will take a string and split it whever it sees the character you use for input. It returns a list:"
   ]
  },
  {
   "cell_type": "code",
   "execution_count": null,
   "id": "097355b3",
   "metadata": {},
   "outputs": [],
   "source": [
    "\"this is a string\".split(\" \")"
   ]
  },
  {
   "cell_type": "markdown",
   "id": "612a7e18",
   "metadata": {},
   "source": [
    "The `join(...)`. Function takes a list of strings and combines them using whatever character or string you give it. For example:"
   ]
  },
  {
   "cell_type": "code",
   "execution_count": null,
   "id": "047bb881",
   "metadata": {},
   "outputs": [],
   "source": [
    "a = [\"let's\", \"join\", \"these\", \"strings\"]"
   ]
  },
  {
   "cell_type": "code",
   "execution_count": null,
   "id": "0f3c5806",
   "metadata": {},
   "outputs": [],
   "source": [
    "\"!!!\".join(a)"
   ]
  },
  {
   "cell_type": "markdown",
   "id": "b558dbf2",
   "metadata": {},
   "source": [
    "### 9: Polar Coordinates\n",
    "https://www.hackerrank.com/challenges/polar-coordinates/problem"
   ]
  },
  {
   "cell_type": "markdown",
   "id": "6a45ad5b",
   "metadata": {},
   "source": [
    "Try to figure this one out on your own. If you get stuck, just let me know. "
   ]
  },
  {
   "cell_type": "markdown",
   "id": "23d8afa7",
   "metadata": {},
   "source": [
    "### 10: Find Angle MBC"
   ]
  },
  {
   "cell_type": "markdown",
   "id": "8f04d6cc",
   "metadata": {},
   "source": [
    "https://www.hackerrank.com/challenges/find-angle/problem\n",
    "\n",
    "Try to figure this one out on your own. If you get stuck, just let me know. \n"
   ]
  },
  {
   "cell_type": "markdown",
   "id": "b78fbe18",
   "metadata": {},
   "source": [
    "### NumPy"
   ]
  },
  {
   "cell_type": "markdown",
   "id": "0539239d",
   "metadata": {},
   "source": [
    "Hang tight, still working on making tutorials for these..."
   ]
  },
  {
   "cell_type": "code",
   "execution_count": null,
   "id": "0c8a19c7",
   "metadata": {},
   "outputs": [],
   "source": []
  }
 ],
 "metadata": {
  "kernelspec": {
   "display_name": "Python 3",
   "language": "python",
   "name": "python3"
  },
  "language_info": {
   "codemirror_mode": {
    "name": "ipython",
    "version": 3
   },
   "file_extension": ".py",
   "mimetype": "text/x-python",
   "name": "python",
   "nbconvert_exporter": "python",
   "pygments_lexer": "ipython3",
   "version": "3.8.8"
  }
 },
 "nbformat": 4,
 "nbformat_minor": 5
}
