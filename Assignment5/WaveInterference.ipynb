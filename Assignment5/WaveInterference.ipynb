{
 "cells": [
  {
   "cell_type": "markdown",
   "metadata": {},
   "source": [
    "## Wave Interference"
   ]
  },
  {
   "cell_type": "markdown",
   "metadata": {},
   "source": [
    "Suppose we drop a pebble in a pond and waves radiate out from the spot where it fell. We could create a simple representation of the physics with a sine wave, spreading out in a uniform circle, to represent the height of the waves at some later time."
   ]
  },
  {
   "cell_type": "markdown",
   "metadata": {},
   "source": [
    "If the center of the circle is at $x_1, y_1$ then the distance $r_1$ to the center from a point is:\n",
    "\n",
    "> $ r_1 = \\sqrt{(x-x_1)^2 + (y-y_1)^2} $\n",
    "\n",
    "and the sine wave for the height is\n",
    "\n",
    "> $ \\xi_1 (x,y) = \\xi_0 sin(kr_1)$\n",
    "\n",
    "where $\\xi_0$ is the amplitude of the waves and $k$ is the wavevector, related to the wavelength $\\lambda$ by $k=2\\pi / \\lambda$."
   ]
  },
  {
   "cell_type": "markdown",
   "metadata": {},
   "source": [
    "Now suppose we drop another pebble in the pond, creating another circular set of waves with the same wavelength and amplitude but centered on a different point $x_2, y_2$:\n",
    "\n",
    "> $\\xi_2(x,y) = \\xi_0 sink(kr_2) $ \n",
    "\n",
    "> with  $ r_2 = \\sqrt{(x-x_2)^2 + (y-y_2)^2} $"
   ]
  },
  {
   "cell_type": "markdown",
   "metadata": {},
   "source": [
    "Then, assuming the waves add linearly (which is a reasonable assumption for water waves, provided they are not too big), the total height of the surface at point $x,y$ is:\n",
    "\n",
    "> $ \\xi(x, y) = \\xi_0sin(kr_1) + \\xi_0 sin(kr_2)$"
   ]
  },
  {
   "cell_type": "markdown",
   "metadata": {},
   "source": [
    "Suppose the wavelength of the waves is $\\lambda$, the amplitude is $A$, and the distance between the center of the circles is $d$. \n",
    "\n",
    "Write a program that will calculate the height of the waves over a square region of length $h$."
   ]
  },
  {
   "cell_type": "code",
   "execution_count": 1,
   "metadata": {},
   "outputs": [],
   "source": [
    "import numpy as np\n",
    "import matplotlib.pyplot as plt\n",
    "from ipywidgets import interact, fixed"
   ]
  },
  {
   "cell_type": "code",
   "execution_count": 2,
   "metadata": {},
   "outputs": [],
   "source": [
    "# Hint: Look into np.meshgrid(...)"
   ]
  },
  {
   "cell_type": "markdown",
   "metadata": {},
   "source": [
    "Plot this function using $\\lambda = 5.0$ cm, $\\xi_0 = 1$ cm, $x_1$ = 0, $d = 20$ cm and $h=1$ m."
   ]
  },
  {
   "cell_type": "code",
   "execution_count": 3,
   "metadata": {},
   "outputs": [],
   "source": [
    "# Hint: Look into plt.imshow(...)"
   ]
  }
 ],
 "metadata": {
  "kernelspec": {
   "display_name": "Python 3",
   "language": "python",
   "name": "python3"
  },
  "language_info": {
   "codemirror_mode": {
    "name": "ipython",
    "version": 3
   },
   "file_extension": ".py",
   "mimetype": "text/x-python",
   "name": "python",
   "nbconvert_exporter": "python",
   "pygments_lexer": "ipython3",
   "version": "3.8.8"
  }
 },
 "nbformat": 4,
 "nbformat_minor": 2
}
