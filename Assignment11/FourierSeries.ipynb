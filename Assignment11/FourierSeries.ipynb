{
 "cells": [
  {
   "cell_type": "markdown",
   "id": "355c06e9",
   "metadata": {},
   "source": [
    "## Fourier Series"
   ]
  },
  {
   "cell_type": "code",
   "execution_count": 32,
   "id": "5c9a7f2b",
   "metadata": {},
   "outputs": [],
   "source": [
    "import numpy as np\n",
    "import matplotlib.pyplot as plt\n",
    "from scipy.integrate import quad"
   ]
  },
  {
   "cell_type": "markdown",
   "id": "fef6ac7a",
   "metadata": {},
   "source": [
    "#### The Square Function\n",
    "Create a python function for the square function shown below.\n",
    "This function has a period of $2\\pi$ and alternates between $0$ and $1$.\n",
    "\n",
    "<img width=600px src=\"SquareFunction.png\">"
   ]
  },
  {
   "cell_type": "code",
   "execution_count": 4,
   "id": "b95d3e66",
   "metadata": {},
   "outputs": [],
   "source": [
    "def squareFunction(x):\n",
    "    ### TO DO: Create a square function\n",
    "    pass"
   ]
  },
  {
   "cell_type": "code",
   "execution_count": 5,
   "id": "bed28931",
   "metadata": {},
   "outputs": [],
   "source": [
    "### TO DO: Plot the square function from (-4pi, 4pi)"
   ]
  },
  {
   "cell_type": "markdown",
   "id": "0b62c027",
   "metadata": {},
   "source": [
    "Visually, verify your plot matches the graph in the image above."
   ]
  },
  {
   "cell_type": "markdown",
   "id": "8d4abcbb",
   "metadata": {},
   "source": [
    "#### The Sine Series\n",
    "Create a function that returns the sum of the first $k$ elements of the fourier sine series. "
   ]
  },
  {
   "cell_type": "code",
   "execution_count": 23,
   "id": "ce182dba",
   "metadata": {},
   "outputs": [],
   "source": [
    "def fourierSineSeries(k, bk, x):\n",
    "    \"\"\"\n",
    "    Returns the sum of the first k elements of the dourier sine series\n",
    "    Parameters:\n",
    "        k: the number of elements to summate\n",
    "        bk: the coefficients of each element\n",
    "        x: the x value to evaluate\n",
    "    Returns:\n",
    "        The S(x) approximation using the fourier sine series\n",
    "    \"\"\"\n",
    "    ### TO DO: Create the fourier sine series sum\n",
    "    pass"
   ]
  },
  {
   "cell_type": "markdown",
   "id": "c9730cbd",
   "metadata": {},
   "source": [
    "#### Find the $b_k$ terms \n",
    "Using your square function and fourier sine series, find and plot the first 5, 10, and 100 $b_k$ terms for your square function. \n",
    "\n",
    "In order to find this coefficients, you'll have to use some integral function. I recommend using `quad` defined here: https://docs.scipy.org/doc/scipy/reference/generated/scipy.integrate.quad.html\n",
    "\n",
    "Recall the integral to find the $b_k$ coefficients is defined as:\n",
    "\n",
    "$$b_k = \\frac{2}{\\pi} \\int \\limits^{\\pi}_{0} S(x)sin(kx) dx $$\n",
    "\n",
    "The quad function, and other pre-made integral functions take a function $f$ as a argument. In order to be able to give these integration functions a single function name, you may have to define an `integrand` function (provided below) that computes the value $S(x)sin(kx)$. "
   ]
  },
  {
   "cell_type": "code",
   "execution_count": 24,
   "id": "0c5ee8d2",
   "metadata": {},
   "outputs": [],
   "source": [
    "def integrad(x, k):\n",
    "    ### TO DO: Define S(x)sin(kx) integrand used to solve for the coefficients \n",
    "    pass"
   ]
  },
  {
   "cell_type": "code",
   "execution_count": 20,
   "id": "d4044b12",
   "metadata": {},
   "outputs": [],
   "source": [
    "## TO DO: Calculate the b_k coefficient values"
   ]
  },
  {
   "cell_type": "markdown",
   "id": "1e1da68d",
   "metadata": {},
   "source": [
    "Plot the sum of the first 5 elements in the fourier sine series for the square wave function."
   ]
  },
  {
   "cell_type": "code",
   "execution_count": 25,
   "id": "a6dacbd1",
   "metadata": {},
   "outputs": [],
   "source": [
    "## TO DO: Plot the sum of the first 5 elements. "
   ]
  },
  {
   "cell_type": "markdown",
   "id": "37b16b06",
   "metadata": {},
   "source": [
    "Plot the sum of the first 10 elements in the fourier sine series for the square wave function."
   ]
  },
  {
   "cell_type": "code",
   "execution_count": 26,
   "id": "6d36dcc2",
   "metadata": {},
   "outputs": [],
   "source": [
    "## TO DO: Plot the sum of the first 10coefficient  elements."
   ]
  },
  {
   "cell_type": "markdown",
   "id": "2030fa28",
   "metadata": {},
   "source": [
    "Plot the sum of the first 100 elements in the fourier sine series for the square wave function."
   ]
  },
  {
   "cell_type": "code",
   "execution_count": 27,
   "id": "561b7373",
   "metadata": {},
   "outputs": [],
   "source": [
    "## TO DO: Plot the sum of the first 100 elements."
   ]
  },
  {
   "cell_type": "code",
   "execution_count": null,
   "id": "9ba5b3ce",
   "metadata": {},
   "outputs": [],
   "source": []
  }
 ],
 "metadata": {
  "kernelspec": {
   "display_name": "Python 3",
   "language": "python",
   "name": "python3"
  },
  "language_info": {
   "codemirror_mode": {
    "name": "ipython",
    "version": 3
   },
   "file_extension": ".py",
   "mimetype": "text/x-python",
   "name": "python",
   "nbconvert_exporter": "python",
   "pygments_lexer": "ipython3",
   "version": "3.8.8"
  }
 },
 "nbformat": 4,
 "nbformat_minor": 5
}
