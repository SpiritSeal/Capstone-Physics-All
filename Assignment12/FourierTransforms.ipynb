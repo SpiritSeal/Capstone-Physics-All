{
 "cells": [
  {
   "cell_type": "markdown",
   "id": "18b90e67",
   "metadata": {},
   "source": [
    "# Fourier Transforms"
   ]
  },
  {
   "cell_type": "code",
   "execution_count": 12,
   "id": "12a4030b",
   "metadata": {},
   "outputs": [],
   "source": [
    "import numpy as np\n",
    "from scipy.integrate import quad\n",
    "import matplotlib.pyplot as plt"
   ]
  },
  {
   "cell_type": "markdown",
   "id": "431f5ed9",
   "metadata": {},
   "source": [
    "## Part 1: The Discrete Fourier Transform"
   ]
  },
  {
   "cell_type": "markdown",
   "id": "1d51eb86",
   "metadata": {},
   "source": [
    "We’re about to make the transition from Fourier series to the Fourier transform. “Transition” is the\n",
    "appropriate word, for in the approach we’ll take the Fourier transform emerges as we pass from periodic\n",
    "to nonperiodic functions. To make the trip we’ll view a nonperiodic function (which can be just about\n",
    "anything) as a limiting case of a periodic function as the period becomes longer and longer."
   ]
  },
  {
   "cell_type": "markdown",
   "id": "e514c171",
   "metadata": {},
   "source": [
    "We're going to start by creating a pulse function. Let's start with the following pulse function:"
   ]
  },
  {
   "cell_type": "code",
   "execution_count": 13,
   "id": "ed46ee03",
   "metadata": {},
   "outputs": [],
   "source": [
    "def pulseFunction(x):\n",
    "    return 1/(3 + (x-20)**2)"
   ]
  },
  {
   "cell_type": "code",
   "execution_count": 15,
   "id": "e9835cde",
   "metadata": {},
   "outputs": [
    {
     "data": {
      "image/png": "[encoded data removed]",
      "text/plain": [
       "<Figure size 432x288 with 1 Axes>"
      ]
     },
     "metadata": {
      "needs_background": "light"
     },
     "output_type": "display_data"
    }
   ],
   "source": [
    "x = np.linspace(-10, 50, 200)\n",
    "plt.plot(x, pulseFunction(x))\n",
    "plt.plot(np.zeros(100), np.linspace(0, 0.5, 100), \"--\")\n",
    "plt.plot(np.ones(100) *40, np.linspace(0, 0.5, 100), \"--\")\n",
    "plt.show()"
   ]
  },
  {
   "cell_type": "markdown",
   "id": "ef967c26",
   "metadata": {},
   "source": [
    "### Step 1: Periodic Pulse Function"
   ]
  },
  {
   "cell_type": "markdown",
   "id": "e9f60829",
   "metadata": {},
   "source": [
    "Take the `pulseFunction` above and make it periodic. Give it a variable period length (we will eventually make this 40 as shown by the vertical dotted lines above). "
   ]
  },
  {
   "cell_type": "code",
   "execution_count": null,
   "id": "a3c0137a",
   "metadata": {},
   "outputs": [],
   "source": [
    "def periodicPulseFunction(x, period):\n",
    "    \"\"\"\n",
    "    x : the x values to consider\n",
    "    period : the period of the function\n",
    "    \"\"\"\n",
    "    return"
   ]
  },
  {
   "cell_type": "markdown",
   "id": "25a7883e",
   "metadata": {},
   "source": [
    "Plot your `periodicPulseFunction` with a period of $40$ from $-100$ to $100$ and check that it is correctly "
   ]
  },
  {
   "cell_type": "code",
   "execution_count": null,
   "id": "6b000e4d",
   "metadata": {
    "scrolled": true
   },
   "outputs": [],
   "source": [
    "## TO DO: Plot your periodicPulseFunction with a period of 40 from x = -100 to x = 100"
   ]
  },
  {
   "cell_type": "markdown",
   "id": "130597f5",
   "metadata": {},
   "source": [
    "### Step 2: Define the Fourier Series "
   ]
  },
  {
   "cell_type": "markdown",
   "id": "256d36bd",
   "metadata": {},
   "source": [
    "This function is neither odd nor even, so we're going to have to take into account both the the even coefficients $a_k$ and the odd coefficients $b_k$."
   ]
  },
  {
   "cell_type": "markdown",
   "id": "83a28d9c",
   "metadata": {},
   "source": [
    "$$ f(x) = \\sum\\limits_{k=0}^{\\infty} a_k cos\\left(\\frac{2\\pi k x}{T}\\right) + b_k sin\\left(\\frac{2\\pi k x}{T}\\right)  $$"
   ]
  },
  {
   "cell_type": "markdown",
   "id": "fce8a4d8",
   "metadata": {},
   "source": [
    "Complete the `fourierSeriesSum` that calculates the summation described above.  "
   ]
  },
  {
   "cell_type": "code",
   "execution_count": null,
   "id": "4b20f8b4",
   "metadata": {},
   "outputs": [],
   "source": [
    "def fourierSeriesSum(k, ak, bk, x, period):\n",
    "    \"\"\"\n",
    "    Parameters:\n",
    "        k  : the maximum k value to include in the summation above\n",
    "        ak : an array of length 'k' containing the even coefficients (from a_0 to a_(k-1))\n",
    "        bk : an array of length 'k' containing the odd coefficients (from b_0 to b_(k-1))\n",
    "        x  : an array of the x values to consider\n",
    "        period : the period of the function\n",
    "    \"\"\"\n",
    "    return"
   ]
  },
  {
   "cell_type": "markdown",
   "id": "014c5bdc",
   "metadata": {},
   "source": [
    "### Step 3: Define the Integrands"
   ]
  },
  {
   "cell_type": "markdown",
   "id": "87dd7995",
   "metadata": {},
   "source": [
    "Because we have both even and odd terms, we're going to have two separate integrals:\n",
    "\n",
    "The integral to solve for the even terms:\n",
    "$$ a_k = \\frac{1}{T} \\int\\limits_{0}^{T} f(x, \\text{period}) \\cos\\left(\\frac{2\\pi k x}{T} \\right) dx$$\n",
    "\n",
    "\n",
    "\n",
    "The integral to solve for the odd terms:\n",
    "$$ b_k = \\frac{1}{T} \\int\\limits_{0}^{T} f(x, \\text{period}) \\sin\\left(\\frac{2\\pi k x}{T} \\right) dx$$"
   ]
  },
  {
   "cell_type": "code",
   "execution_count": null,
   "id": "a891755c",
   "metadata": {},
   "outputs": [],
   "source": [
    "def odd_integrand(x, f, k, period):\n",
    "    \"\"\"\n",
    "    Parameters:\n",
    "        x: the x values to consider\n",
    "        f: the function f(x, period) used in the integral\n",
    "        k: the k value to use\n",
    "        period: the period of f\n",
    "    \"\"\"\n",
    "    return"
   ]
  },
  {
   "cell_type": "code",
   "execution_count": null,
   "id": "05370444",
   "metadata": {},
   "outputs": [],
   "source": [
    "def even_integrand(x, f, k, period):\n",
    "    \"\"\"\n",
    "    Parameters:\n",
    "        x: the x values to consider\n",
    "        f: the function f(x, period) used in the integral\n",
    "        k: the k value to use\n",
    "        period: the period of f\n",
    "    \"\"\"\n",
    "    return"
   ]
  },
  {
   "cell_type": "markdown",
   "id": "d9217356",
   "metadata": {},
   "source": [
    "### Step 4: Find the Fourier Coefficients"
   ]
  },
  {
   "cell_type": "markdown",
   "id": "1e422717",
   "metadata": {},
   "source": [
    "Ok! Now it's time to find the coefficients. This is the same process as last time:\n",
    "1. Initialize an $a_k$ and $b_k$ array\n",
    "2. Loop through all the $k$ values\n",
    "3. Find $a_k[i]$ and $b_k[i]$ where i $\\in [0, k]$\n",
    "4. Return $a_k$ and $b_k$\n",
    "\n",
    "(At the end of your quad function, add \"limit = 100\" as an argument)"
   ]
  },
  {
   "cell_type": "code",
   "execution_count": null,
   "id": "667221d2",
   "metadata": {},
   "outputs": [],
   "source": [
    "def findFourierCoefficients(f, k, period):\n",
    "    \"\"\"\n",
    "    Parameters:\n",
    "        f: the function to evaluate\n",
    "        k: the maximum k value to consider\n",
    "        period: the period of f\n",
    "    \n",
    "    \"\"\"\n",
    "    return"
   ]
  },
  {
   "cell_type": "markdown",
   "id": "5a8163ab",
   "metadata": {},
   "source": [
    "### Step 5: Putting it all Together"
   ]
  },
  {
   "cell_type": "markdown",
   "id": "01c6eacc",
   "metadata": {},
   "source": [
    "Let's test it out! "
   ]
  },
  {
   "cell_type": "code",
   "execution_count": null,
   "id": "38d43e66",
   "metadata": {},
   "outputs": [],
   "source": [
    "k = 100\n",
    "period = 40\n",
    "\n",
    "[ak, bk] = findFourierCoefficients(periodicPulseFunction, k, period)\n",
    "y = fourierSeries(k, ak, bk, x, period)\n",
    "plt.plot(x, y)\n",
    "plt.title(\"Pulse Function Constructed from Fourier Series\")\n",
    "plt.show()"
   ]
  },
  {
   "cell_type": "markdown",
   "id": "86c5fed4",
   "metadata": {},
   "source": [
    "### Step 6: Analyzing the Signal"
   ]
  },
  {
   "cell_type": "markdown",
   "id": "d0750f75",
   "metadata": {},
   "source": [
    "Let's visualize what the coeffcients look like."
   ]
  },
  {
   "cell_type": "markdown",
   "id": "65eeff89",
   "metadata": {},
   "source": [
    "Plot the even coefficients ($a_k$ versus $k$)."
   ]
  },
  {
   "cell_type": "code",
   "execution_count": 16,
   "id": "a3184eb1",
   "metadata": {},
   "outputs": [],
   "source": [
    "# TO DO: Plot ak versus k"
   ]
  },
  {
   "cell_type": "markdown",
   "id": "0542d7ab",
   "metadata": {},
   "source": [
    "Plot the odd coefficients ($b_k$ versus $k$)."
   ]
  },
  {
   "cell_type": "code",
   "execution_count": 17,
   "id": "47777a47",
   "metadata": {},
   "outputs": [],
   "source": [
    "# TO DO: Plot bk versus k"
   ]
  },
  {
   "cell_type": "markdown",
   "id": "2a0b5448",
   "metadata": {},
   "source": [
    "## Part 2: Application"
   ]
  },
  {
   "cell_type": "markdown",
   "id": "ed0c55eb",
   "metadata": {},
   "source": [
    "### Option 1"
   ]
  },
  {
   "cell_type": "markdown",
   "id": "6171f104",
   "metadata": {},
   "source": [
    "Below I've imported and plotted a signal for you. Break down this signal into sines and cosines, and plot the coefficients ($a_k$ versus $k$ and $b_k$ versus $k$)"
   ]
  },
  {
   "cell_type": "code",
   "execution_count": null,
   "id": "6d50661d",
   "metadata": {},
   "outputs": [],
   "source": [
    "x, y = np.loadtxt(\"signal.txt\", unpack=True)"
   ]
  },
  {
   "cell_type": "code",
   "execution_count": null,
   "id": "584721bb",
   "metadata": {},
   "outputs": [],
   "source": [
    "plt.figure(figsize=(15, 5))\n",
    "plt.plot(x, y)\n",
    "plt.show()"
   ]
  },
  {
   "cell_type": "code",
   "execution_count": null,
   "id": "c5daf7f5",
   "metadata": {},
   "outputs": [],
   "source": []
  },
  {
   "cell_type": "markdown",
   "id": "623f6274",
   "metadata": {},
   "source": [
    "### Option 2"
   ]
  },
  {
   "cell_type": "markdown",
   "id": "4013d963",
   "metadata": {},
   "source": [
    "Find a signal from real data, and find the cosines and sines values that comprise that signal. "
   ]
  },
  {
   "cell_type": "code",
   "execution_count": null,
   "id": "52def8b9",
   "metadata": {},
   "outputs": [],
   "source": []
  }
 ],
 "metadata": {
  "kernelspec": {
   "display_name": "Python 3",
   "language": "python",
   "name": "python3"
  },
  "language_info": {
   "codemirror_mode": {
    "name": "ipython",
    "version": 3
   },
   "file_extension": ".py",
   "mimetype": "text/x-python",
   "name": "python",
   "nbconvert_exporter": "python",
   "pygments_lexer": "ipython3",
   "version": "3.8.8"
  }
 },
 "nbformat": 4,
 "nbformat_minor": 5
}
